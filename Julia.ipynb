{
  "cells": [
    {
      "cell_type": "markdown",
      "metadata": {
        "id": "xEt6HbN0b7q8"
      },
      "source": [
        "<img src=\"https://github.com/JuliaLang/julia-logo-graphics/raw/master/images/julia-logo-color.png\" height=\"150\" align = \"right\"  /> \n",
        "\n",
        "# **Workshop : Introduction to Julia**\n",
        "# *Objectives*\n",
        "* Introduction to Julia \n",
        "  * Basics of Julia :  a brief background\n",
        "  * Setting up Julia IDE or REPL Environment\n",
        "* Hands on with Julia\n",
        "   * Variables and Data Types\n",
        "   * Functions\n",
        "   * Data Structures\n",
        "   * Control Flow\n",
        "\n",
        "# *Future Topics*\n",
        "\n",
        "Variable Scope, Modules, Packages, Plotting, Parallel computing, Code Optimization and Interoperability.\n",
        "   \n",
        "\n",
        "\n",
        "\n",
        "\n",
        "\n"
      ]
    },
    {
      "cell_type": "markdown",
      "metadata": {
        "id": "mopW6FKfHG7h"
      },
      "source": [
        "\n",
        "# **Introduction to Julia**  \n",
        "  Julia has evolved quickly since its inception in 2012.\n",
        "  * Julia user base has grown significantly with high profile users like NASA,  BlackRock, Aviva and INPE.\n",
        "  * Julia is the only programming language to win _James H. Wilkinson Prize for Numerical Software_. \n",
        "  * Julia is a general purpose programming language with wide range of applications, including _data science, complex linear algebra, data mining, and machine learning_. \n",
        "  * Multi-paradigm with support for Functional, OOPS with multiple dispatches and Meta-programming.\n",
        "\n",
        "\n",
        "# **Julia _vs._ C++/C _vs._ Python**\n",
        "\n",
        " Julia feels like python but runs like C++/C. In fact Julia gives you an option to write your code with impressive flexibility. You can code like python or to boost performance you can type everything statistically like C++.\n",
        " \n",
        "# **Ways to run Julia**\n",
        "\n",
        "Three ways to run Julia code: \n",
        "  * Native execution with **Julia REPL**\n",
        "  * Through an **IDE** (Integrated Development Environment): _Juno , JuliaPro, VSCode, VIM_\n",
        "  * Online **Cloud Platforms**: _Colab, Kaggle, CoCalc, Azure, Binder, etc_.\n"
      ]
    },
    {
      "cell_type": "markdown",
      "metadata": {
        "id": "SEAHaD9RxiQ2"
      },
      "source": [
        "# Speed Comparison\n",
        "## Python vs Julia\n",
        "\n",
        "* Generally Julia is at least 1.5 to 2 times faster than Python.\n",
        "* However, much more significant differences of up to 200-300 times that of Python are also possible.\n",
        "* Julia has a little more startup time becouse of compilation instead of interpretation, which causes an intial delay.\n",
        "* Julia has a more efficient support for multithreading. (one of the reasons that Julia can become orders of magnitude faster than Python)"
      ]
    },
    {
      "cell_type": "markdown",
      "metadata": {
        "id": "nbVYyeYqyujw"
      },
      "source": [
        "# let's compare\n",
        "* Julia code is below.\n",
        "* Here is a link to the [Python code](Python_Speed.ipynb).\n",
        "\n",
        "### There's a significant difference for AI and ML applications where training time can be very long.  Consider Julia running 300 times faster than Python. A training set  that could take 2-3 full days comes down to 576/864 seconds or ~9.6/14.4 minutes!"
      ]
    },
    {
      "cell_type": "code",
      "execution_count": null,
      "metadata": {
        "colab": {
          "base_uri": "https://localhost:8080/",
          "height": 130
        },
        "id": "981RV9hV0OjM",
        "outputId": "f27bd768-1ce6-43f4-9031-98e46317cd98"
      },
      "outputs": [],
      "source": [
        "using Dates"
      ]
    },
    {
      "cell_type": "code",
      "execution_count": null,
      "metadata": {
        "id": "g0xY_AzD0auc"
      },
      "outputs": [],
      "source": [
        "function fib(n)\n",
        "  if n<2\n",
        "    return 1\n",
        "  else\n",
        "    return fib(n-1)+fib(n-2)\n",
        "  end\n",
        "end"
      ]
    },
    {
      "cell_type": "code",
      "execution_count": null,
      "metadata": {
        "id": "XakCfxjk0R5m"
      },
      "outputs": [],
      "source": [
        "t1 = now()\n",
        "println(fib(29))\n",
        "t2 = now()\n",
        "println(t2-t1)"
      ]
    },
    {
      "cell_type": "markdown",
      "metadata": {
        "id": "RzsaObe3lq-a"
      },
      "source": [
        "# REPL allows you to execute code line by line\n",
        "\n",
        "* Julia's REPL is a full-featured interactive command-line REPL(read-eval-print-loop)\n",
        "* It is built into Julia's executable and is extremely useful. Not only can you execute code line by line, it is also possible to type code directly into the REPL.\n",
        "* REPL also has a searchable history, tab completion, and different shell modes to manage packages.\n",
        "\n",
        "**REPL can be started by typing 'julia' into a terminal or simply clicking on the Julia executable**\n",
        "\n",
        "_something to note about the use of REPL:_\n",
        "\n",
        "No matter what application you are using to run JULIA, REPL is your friend. In VSCode, the REPL is used to run your Julia code and organize packages. In Jupyter Notebook, an instantiation of a REPL is necessary to execute code blocks. In the terminal, whenever Julia is called a REPL will activate and compile your julia code.\n",
        "\n",
        "\n",
        "### Some Examples of what a REPl looks like:"
      ]
    },
    {
      "cell_type": "markdown",
      "metadata": {},
      "source": [
        "![julia_repl](assets/julia_repl.png)  ![python_repl](assets/pytho-repl.png)\n",
        "\n",
        "_Learn more about Julia's REPL_: [docs.julialang.org](https://docs.julialang.org/en/v1/stdlib/REPL/)"
      ]
    },
    {
      "cell_type": "markdown",
      "metadata": {
        "id": "S8PHGPQ8vVXm"
      },
      "source": [
        "# **Variables and Types**"
      ]
    },
    {
      "cell_type": "markdown",
      "metadata": {
        "id": "VGfHpAZ_lq_N"
      },
      "source": [
        "* Julia lets you declare a variable without explicitly mention the datatype.\n",
        "* Julia infers its type based on the value assigned to it\n",
        "<div>\n",
        "     <img src=\"https://github.com/CEASLIBRARY/Introduction-to-Julia/blob/main/enlightenment-symbol.png?raw=1\"  width=\"50\"  />  \n",
        "</div>\n",
        "<div>\n",
        "   <img src=\"https://github.com/CEASLIBRARY/Introduction-to-Julia/blob/main/Datatypes.png?raw=1\"  width=\"500\"  /> <img src=\"https://github.com/CEASLIBRARY/Introduction-to-Julia/blob/main/enlightenment-symbol.png?raw=1\"  width=\"50\"  />  \n",
        " </div>  \n",
        "\n",
        "**From a performance point of view, you should not change the datatype after its initialization**"
      ]
    },
    {
      "cell_type": "markdown",
      "metadata": {
        "id": "rFsue829lq_O"
      },
      "source": [
        "# Declaring and Initializing Variables\n",
        "* **Value is a variable name and is assigned a value using = operator**\n",
        "* **Variables in Julia can be declared by just writing their name. There’s no need to define a datatype with it.**"
      ]
    },
    {
      "cell_type": "code",
      "execution_count": null,
      "metadata": {
        "id": "klAmDZrxyIMs"
      },
      "outputs": [],
      "source": [
        "value = 5"
      ]
    },
    {
      "cell_type": "markdown",
      "metadata": {
        "id": "mRLM3Eeilq_Q"
      },
      "source": [
        "## Rules for naming a variable in Julia\n",
        "* Variable names in Julia must start with an underscore, a letter(A-Z or a-z) or a Unicode character greater than 00A0(nbsp).\n",
        "* Variable names can also contain digits(0-9) or !, but must not begin with these.\n",
        "* Operators like (+, ^, etc.) can also be used to name a variable.\n",
        "* Variable names can also be written as words separated by underscore, but that is not a good practice and must be avoided unless necessary.\n",
        "* LaTeX symbols can be used as variable names; Help in succinct and readable mathematic functions"
      ]
    },
    {
      "cell_type": "code",
      "execution_count": null,
      "metadata": {
        "id": "Rrwzz2uOAPXZ"
      },
      "outputs": [],
      "source": [
        "θ = 5\n",
        "Θ = 9\n",
        "ϕ = 9\n",
        "Φ = 23\n",
        "ϵ = 9\n",
        "ζ = 23\n",
        "κ = 23\n",
        "δ = 23\n",
        "Δ  = 23\n",
        "# special characters can be typed like \\alpha, which can tab out to 'α' in a real editor\n"
      ]
    },
    {
      "cell_type": "markdown",
      "metadata": {
        "id": "UK2heEpdlq_V"
      },
      "source": [
        "# Statically Typed *Variable* Names"
      ]
    },
    {
      "cell_type": "markdown",
      "metadata": {},
      "source": [
        "Statically typed variables can be created using \"::\" and a specification of the type that is desired. For instance below:"
      ]
    },
    {
      "cell_type": "code",
      "execution_count": null,
      "metadata": {
        "id": "gNWIQmb7ARce"
      },
      "outputs": [],
      "source": [
        "x = 5::Int64"
      ]
    },
    {
      "cell_type": "markdown",
      "metadata": {},
      "source": [
        "We can also check the type of a variable, regardless of whether it is statically or dynamically typed:"
      ]
    },
    {
      "cell_type": "code",
      "execution_count": null,
      "metadata": {
        "id": "4Fp7oQ7Tlq_b"
      },
      "outputs": [],
      "source": [
        "print(typemin(Int64),\"\\n\")\n",
        "print(typemax(Int64))"
      ]
    },
    {
      "cell_type": "markdown",
      "metadata": {},
      "source": [
        "Below, instead of statically typing a variable as \"Int64\", we use \"String\":"
      ]
    },
    {
      "cell_type": "code",
      "execution_count": null,
      "metadata": {
        "id": "2kdu7dxKlq_c"
      },
      "outputs": [],
      "source": [
        "x = \"345\"::String\n",
        "typeof(x)"
      ]
    },
    {
      "cell_type": "markdown",
      "metadata": {
        "id": "pSxBvLTylq_d",
        "tags": []
      },
      "source": [
        "## Type Conversion\n",
        "* Use _convert function (targettype,variable)_\n",
        "* Always from low to high precision.\n",
        "* Use trunc/floor etc. to get to lower precision."
      ]
    },
    {
      "cell_type": "code",
      "execution_count": null,
      "metadata": {
        "id": "Vkerzsk8lq_d"
      },
      "outputs": [],
      "source": [
        "x = 3\n",
        "println(convert(Float64,x))\n",
        "\n",
        "y = 3.59\n",
        "println(floor(y))\n",
        "\n",
        "println(trunc(Int64, y))"
      ]
    },
    {
      "cell_type": "markdown",
      "metadata": {},
      "source": [
        "**Basic arithmetic operations**\n",
        "* _Number Addition_"
      ]
    },
    {
      "cell_type": "code",
      "execution_count": null,
      "metadata": {
        "id": "_gC1mZnylq-d"
      },
      "outputs": [],
      "source": [
        "3+4"
      ]
    },
    {
      "cell_type": "markdown",
      "metadata": {
        "id": "WyklnSlslq-e"
      },
      "source": [
        "* subtraction, addition, multiplication, power, square-root, log etc."
      ]
    },
    {
      "cell_type": "code",
      "execution_count": null,
      "metadata": {
        "id": "nqrBb6oFlq-f"
      },
      "outputs": [],
      "source": [
        "println(4-6)\n",
        "println(4*23)\n",
        "println(4^2)\n",
        "println(√92)\n",
        "println(sqrt(34))\n",
        "println(log(23))\n"
      ]
    },
    {
      "cell_type": "markdown",
      "metadata": {
        "id": "KqoNnCo6lq-h"
      },
      "source": [
        "**Boolean/Logical operators** \n",
        "*  _&, xor, ||, nand_"
      ]
    },
    {
      "cell_type": "code",
      "execution_count": null,
      "metadata": {
        "id": "GD3LpE1Qlq-i"
      },
      "outputs": [],
      "source": [
        "println(true & false)\n",
        "\n",
        "println(xor(true, false))\n",
        "\n",
        "println(true || false)\n",
        "\n",
        "println(nand(true,false))"
      ]
    },
    {
      "cell_type": "markdown",
      "metadata": {
        "id": "evYh7HYllq-j"
      },
      "source": [
        "# Precision\n",
        "* _Float + Int Addition_\n",
        "<div>\n",
        "    <img src=\"https://github.com/CEASLIBRARY/Introduction-to-Julia/blob/main/enlightenment-symbol.png?raw=1\"  width=\"50\"  />\n",
        " </div>    \n",
        "\n",
        "* _Resultant data type is same as highest precision operand_\n",
        " "
      ]
    },
    {
      "cell_type": "code",
      "execution_count": null,
      "metadata": {
        "id": "bhIdmabblq-k"
      },
      "outputs": [],
      "source": [
        "2 + 5.0"
      ]
    },
    {
      "cell_type": "markdown",
      "metadata": {
        "id": "IMych6jplq-m"
      },
      "source": [
        "**Basic Complex Numbers operations**\n",
        "*  _Complex Number Addition_"
      ]
    },
    {
      "cell_type": "code",
      "execution_count": null,
      "metadata": {
        "id": "MvTxCaTblq-q"
      },
      "outputs": [],
      "source": [
        "3+4im"
      ]
    },
    {
      "cell_type": "markdown",
      "metadata": {},
      "source": [
        "Separate complex number arithmetic: We can put separate imaginary numbers in parentheses and Julia can resolve them!"
      ]
    },
    {
      "cell_type": "code",
      "execution_count": null,
      "metadata": {
        "id": "B-Xlv0gOlq-s"
      },
      "outputs": [],
      "source": [
        "(3+2im)-(45-23im)"
      ]
    },
    {
      "cell_type": "markdown",
      "metadata": {
        "id": "2pmgSLBHlq-v"
      },
      "source": [
        "**Basic Fractional Numbers operations**\n",
        "* _Fraction Representation_"
      ]
    },
    {
      "cell_type": "code",
      "execution_count": null,
      "metadata": {
        "id": "ALozDcfQlq-x"
      },
      "outputs": [],
      "source": [
        "3//5"
      ]
    },
    {
      "cell_type": "markdown",
      "metadata": {},
      "source": [
        "* Fraction Arithmetic"
      ]
    },
    {
      "cell_type": "code",
      "execution_count": null,
      "metadata": {
        "id": "snoxcl2ulq-1"
      },
      "outputs": [],
      "source": [
        "3//5 + 9//2"
      ]
    },
    {
      "cell_type": "markdown",
      "metadata": {},
      "source": [
        "* Fraction arithmetic with whole numbers"
      ]
    },
    {
      "cell_type": "code",
      "execution_count": null,
      "metadata": {
        "id": "SsKxrC3ylq-9"
      },
      "outputs": [],
      "source": [
        "34//21 + 9"
      ]
    },
    {
      "cell_type": "markdown",
      "metadata": {
        "id": "MwVVXa57lq_A"
      },
      "source": [
        "**How to know the type of variable**\n",
        "<div>\n",
        "   <img src=\"https://github.com/CEASLIBRARY/Introduction-to-Julia/blob/main/enlightenment-symbol.png?raw=1\"  width=\"50\"  />\n",
        " </div>  \n",
        " \n",
        " _typeof(variable)_ \n",
        "\n",
        "**will let you know the type inferred by Julia**"
      ]
    },
    {
      "cell_type": "code",
      "execution_count": null,
      "metadata": {
        "id": "dKxCwASklq_B"
      },
      "outputs": [],
      "source": [
        "typeof(1)"
      ]
    },
    {
      "cell_type": "markdown",
      "metadata": {},
      "source": [
        "We can also *print* the *typeof* a math statement. This doesn't have to be a variable. Julia can evaluate the expression inside the parentheses:"
      ]
    },
    {
      "cell_type": "code",
      "execution_count": null,
      "metadata": {
        "id": "InHsqoFAlq_E"
      },
      "outputs": [],
      "source": [
        "println(typeof(34//20 + 9))\n",
        "println(34//20 + 9)"
      ]
    },
    {
      "cell_type": "code",
      "execution_count": null,
      "metadata": {
        "id": "hBNDxIFLlq_G"
      },
      "outputs": [],
      "source": [
        "typeof(4+7im)"
      ]
    },
    {
      "cell_type": "markdown",
      "metadata": {
        "id": "SI1XeQc-lq_f"
      },
      "source": [
        "## String to Number Conversion in Julia\n",
        "* Parse function (T::Type, str, base=Int)"
      ]
    },
    {
      "cell_type": "code",
      "execution_count": null,
      "metadata": {
        "id": "NPWqOPR7lq_h"
      },
      "outputs": [],
      "source": [
        "println(parse(Int64,\"23424\",base = 8))\n",
        "println(parse(Int64,\"23424\",base = 10))\n",
        "println(parse(Int64,\"23424\",base = 16))"
      ]
    },
    {
      "cell_type": "code",
      "execution_count": null,
      "metadata": {
        "id": "J3wsDDnflq_y"
      },
      "outputs": [],
      "source": [
        "#This is Single Line Comment"
      ]
    },
    {
      "cell_type": "markdown",
      "metadata": {
        "id": "wIaI-WUPlq_z"
      },
      "source": [
        "* Multiple Line Comments"
      ]
    },
    {
      "cell_type": "code",
      "execution_count": null,
      "metadata": {
        "id": "JpZ5HpQyAiXm"
      },
      "outputs": [],
      "source": [
        "#= This\n",
        "is\n",
        "mulitple Line\n",
        "Comment\n",
        "=#"
      ]
    },
    {
      "cell_type": "markdown",
      "metadata": {
        "id": "YfTcYznkApt5"
      },
      "source": [
        "# Hands-on  **Variables and Datatypes**\n",
        "\n",
        "<div>\n",
        "     <img src=https://github.com/CEASLIBRARY/Introduction-to-Julia/blob/main/Hanson.png?raw=1\"  width=\"100\"  />  \n",
        "</div>"
      ]
    },
    {
      "cell_type": "markdown",
      "metadata": {
        "id": "LH9k7gmRAoqg"
      },
      "source": [
        "### Pythagoream Theorem Exercise\n",
        "**The Pythagorean Theorem is a fundamental relation among three sides of a right triangle. it looks like this:   a<sup>2</sup> + b<sup>2</sup> = c<sup>2</sup>**\n",
        "* Calculate the hypotenuse of a triangle given sides  = 5 and 8, and then print it to the screen. Try adding a message with the result as well to make the result look nice!"
      ]
    },
    {
      "cell_type": "code",
      "execution_count": null,
      "metadata": {
        "id": "DJuJIQFBlq_-"
      },
      "outputs": [],
      "source": [
        "# Since the hypotenuse is c, we need to use a square root to get the final answer. \n",
        "a = 5\n",
        "b = 8\n"
      ]
    },
    {
      "cell_type": "markdown",
      "metadata": {
        "id": "reuiMdtcvrBm"
      },
      "source": [
        "# **Functions**\n",
        "* #### Operators are _functions_ and written in **infix** notation\n",
        "  * Boolean/Logical. \n",
        "  ### (&,   ||,    xor,   nand)\n",
        "  * Arithmetic. \n",
        "  ### ( +,  -,  /,  *,  √,  ^,  log etc.)"
      ]
    },
    {
      "cell_type": "code",
      "execution_count": null,
      "metadata": {
        "id": "2nIJNSI6lrAF"
      },
      "outputs": [],
      "source": [
        "println(+(3,4))\n",
        "println(/(3,4))\n",
        "println(*(3,4))\n",
        "println(^(3,4))"
      ]
    },
    {
      "cell_type": "markdown",
      "metadata": {
        "id": "3B04_CVSlrAI"
      },
      "source": [
        "\n",
        "## Generic Functions\n",
        "  \n",
        "### **Standard Definition:**\n",
        "\n",
        "These functions are written with the standard method of writing functions. A *function* keyword, followed by the *name* of the function and any paremeters for the function contained inside the parentheses:\n",
        "\n",
        "The end of the function is designated by the *end* keyword that will automatically tab you code back to the original indent:\n",
        "  "
      ]
    },
    {
      "cell_type": "code",
      "execution_count": null,
      "metadata": {
        "id": "W4rvs_tYvqRh"
      },
      "outputs": [],
      "source": [
        "function squareroot(a)\n",
        "    return √a\n",
        "end\n",
        "squareroot(9)"
      ]
    },
    {
      "cell_type": "markdown",
      "metadata": {},
      "source": [
        "You can also specify the type of the parameter next to the parameters parentheses. See Below:"
      ]
    },
    {
      "cell_type": "code",
      "execution_count": null,
      "metadata": {
        "id": "DTuodY5flrAL"
      },
      "outputs": [],
      "source": [
        "function squareroot(a) ::Int64\n",
        "    return sqrt(a)\n",
        "end\n",
        "\n",
        "squareroot(9)"
      ]
    },
    {
      "cell_type": "markdown",
      "metadata": {
        "id": "cFftTQq-lrAO"
      },
      "source": [
        " ### **Inline Functions.**"
      ]
    },
    {
      "cell_type": "markdown",
      "metadata": {},
      "source": [
        "Here are some nifty inline functions that perform tasks in *ONE* line:\n",
        "\n",
        "The first function takes a parameter, x, and plugs it into an equation that will return a single variable:"
      ]
    },
    {
      "cell_type": "code",
      "execution_count": null,
      "metadata": {
        "id": "l1-PlMywlrAQ"
      },
      "outputs": [],
      "source": [
        "f(x) = x^2 + x + √(x+6x^2)"
      ]
    },
    {
      "cell_type": "markdown",
      "metadata": {},
      "source": [
        "This function takes parameter y, and loops through the elements of y. Each loop, it will square the value and place that number in an array that it returns after finishing the loop:"
      ]
    },
    {
      "cell_type": "code",
      "execution_count": null,
      "metadata": {
        "id": "es6_bmQclrAS"
      },
      "outputs": [],
      "source": [
        "f(y) = [x^2 for x in y]"
      ]
    },
    {
      "cell_type": "code",
      "execution_count": null,
      "metadata": {
        "id": "CJInwD8OlrAT"
      },
      "outputs": [],
      "source": [
        "println(f([2,3,4,5]))"
      ]
    },
    {
      "cell_type": "markdown",
      "metadata": {},
      "source": [
        "This function does things a little differently. Notice that instead of square brackets, [], there are parentheses. This means that it will not return in the form of an array or operate in the same way as an array. Try it out:"
      ]
    },
    {
      "cell_type": "code",
      "execution_count": null,
      "metadata": {
        "id": "XHG2azyylrAW"
      },
      "outputs": [],
      "source": [
        "f(y) = (x^2 for x in y)"
      ]
    },
    {
      "cell_type": "markdown",
      "metadata": {},
      "source": [
        "Something interesting about the function *call* below are the ellpsis. In Julia, this is called a 'splat' and it's useful to denote a function might take an arbitrary number of arguments. Here, it means that this array could be n length and still work just fine. But remember, it won't return an array. What will it do?"
      ]
    },
    {
      "cell_type": "code",
      "execution_count": null,
      "metadata": {
        "id": "866nD3ZklrAX"
      },
      "outputs": [],
      "source": [
        "println(f([2,3,4,5])...)\n",
        "# Any guesses as to what '...' does?"
      ]
    },
    {
      "cell_type": "markdown",
      "metadata": {},
      "source": [
        "The below function uses a special character to create a shortcut for a function. Here, the \"name\" of the function is actually the sum symbol, or sigma. This is interesting because we don't have to be constrained by the default meaning of the symbol. By default, it would sum the two variables. But what if we change that to multiplication? Would it still work?"
      ]
    },
    {
      "cell_type": "code",
      "execution_count": null,
      "metadata": {
        "id": "NY46OHvalrAZ"
      },
      "outputs": [],
      "source": [
        "∑(x,y) = x+y"
      ]
    },
    {
      "cell_type": "markdown",
      "metadata": {},
      "source": [
        "Here's a more confusing function. But let's break it down. First, we name a function \"factorial! with parameter x. This parameter is typed as Int64. Next, this function is set equal to a conditional statement that asks, is x equal to 1? if it is, do something. If it's not, do something else. "
      ]
    },
    {
      "cell_type": "code",
      "execution_count": null,
      "metadata": {
        "id": "MJsw-SPilrAa"
      },
      "outputs": [],
      "source": [
        "factorial!(x::Int64) = x == 1 ?  one(x) : factorial!(x-1)*x\n",
        "# same logic but using simpler logic:\n",
        "# equalsOne(x::Int64) = x == 1 ? println(\"yes\") : println(\"no\")"
      ]
    },
    {
      "cell_type": "code",
      "execution_count": null,
      "metadata": {
        "id": "cljjcIJNlrAd"
      },
      "outputs": [],
      "source": [
        "factorial!(3::Int64)"
      ]
    },
    {
      "cell_type": "markdown",
      "metadata": {},
      "source": [
        "This function applies a very similar concept to the last. A conditional statement that will run one or the other side of the \":\""
      ]
    },
    {
      "cell_type": "code",
      "execution_count": null,
      "metadata": {
        "id": "06ll2hc7lrAe"
      },
      "outputs": [],
      "source": [
        "fib(n::Integer) = n ≤ 2 ? one(n) : fib(n-1) + fib(n-2)"
      ]
    },
    {
      "cell_type": "markdown",
      "metadata": {
        "id": "4kK85vcglrAg"
      },
      "source": [
        "### **Anonymous/ Lamdba Expressions.**"
      ]
    },
    {
      "cell_type": "markdown",
      "metadata": {},
      "source": [
        "This is an example of a function that does not have a formal name. Thus, it can't be called using the normal means. Functions in Julia can be assigned to variables, they can be used as arguments, and they can also be returned as values.They can be created anonymously , without being given a name, using syntax like this: "
      ]
    },
    {
      "cell_type": "code",
      "execution_count": null,
      "metadata": {
        "id": "VpxAWu-4lrAi"
      },
      "outputs": [],
      "source": [
        "x -> x^+2+3x+4"
      ]
    },
    {
      "cell_type": "markdown",
      "metadata": {},
      "source": [
        "Seems useless right? Well, in that form it is mostly useless. It's difficult to call that function so it seems like it would've been a better idea to just have given it a name. But what if we have a different script, and this time we want to apply some function to each value of an array. We haven't written the function yet, but it's pretty simple so we can use an anonymous function to shorten the script."
      ]
    },
    {
      "cell_type": "code",
      "execution_count": null,
      "metadata": {
        "id": "oXcO8p18lrAj"
      },
      "outputs": [],
      "source": [
        "map(x->x^2+2x+4,[1,2,3,4,5])"
      ]
    },
    {
      "cell_type": "markdown",
      "metadata": {},
      "source": [
        "The line above and the line below are examples of how anonymous functions can be useful. They are passed as variables to map(), which uses them to compute and return each value of the other parameter, an array."
      ]
    },
    {
      "cell_type": "code",
      "execution_count": null,
      "metadata": {
        "id": "n49lF1__lrAl"
      },
      "outputs": [],
      "source": [
        "map(x-> x*x*x,[\"1\",\"2\",\"3\",\"4\",\"5\"])"
      ]
    },
    {
      "cell_type": "markdown",
      "metadata": {
        "id": "POrlb8uelrBj"
      },
      "source": [
        "# **Conditional Evaluation**"
      ]
    },
    {
      "cell_type": "markdown",
      "metadata": {},
      "source": [
        "Conditionals are an important part of Julia. If you know any other programming langugage, you'll have a pretty good grasp of these since they work pretty much the same way as any other language that's designed similarly.\n",
        "\n"
      ]
    },
    {
      "cell_type": "markdown",
      "metadata": {},
      "source": [
        "We set x = 9. If x is *greater than or equal* 0, \"whole number\". *else*, \"negative number\""
      ]
    },
    {
      "cell_type": "code",
      "execution_count": null,
      "metadata": {
        "id": "V9RjU4RulrBl"
      },
      "outputs": [],
      "source": [
        "x = 9\n",
        "if x >= 0\n",
        "    \"whole number\"\n",
        "else\n",
        "    \"negative Number\"\n",
        "end"
      ]
    },
    {
      "cell_type": "markdown",
      "metadata": {},
      "source": [
        "This conditional uses mod() which is the Julia function for modulus. Modulus is an extremely useful tool for finding the remainder of a division. For example, mod(9,2) would result in 1 because the only way to divide 9 into 2 parts evenly is to have 1 left over. (8/2 = 4, with 1 left over ). This is the elegant solution to finding out if a number is even or odd. Because if the modulus is 0, it is definitely even. If the modulus is 1, it has to be odd."
      ]
    },
    {
      "cell_type": "code",
      "execution_count": null,
      "metadata": {
        "id": "2c63EmgIlrBq"
      },
      "outputs": [],
      "source": [
        "x = 9\n",
        "if mod(x,2) == 0\n",
        "    \"Even number\"\n",
        "elseif x==0\n",
        "     \"zero\"\n",
        "else\n",
        "     \"Odd Number\"\n",
        "end"
      ]
    },
    {
      "cell_type": "markdown",
      "metadata": {},
      "source": [
        "Here are some inline conditionals using special characters. These may come in useful when displaying to the user the result of conditional statements.\n",
        "\n",
        "the first line asks, \"is 3 greater than 4?\". If the answer is yes (true), then the computer will print 23. Otherwise, it will print 45."
      ]
    },
    {
      "cell_type": "code",
      "execution_count": null,
      "metadata": {
        "id": "LiSzu8uwlrBv"
      },
      "outputs": [],
      "source": [
        "println(3>4 ? 23 : 45)\n",
        "println(30>14 ? 23 : 45)"
      ]
    },
    {
      "cell_type": "markdown",
      "metadata": {
        "id": "LnbKsiN-BPa5"
      },
      "source": [
        "# **Data Structures**\n",
        "\n",
        "  * Arrays and Vectors\n",
        "  * Metrices\n",
        "  * Sets and Tuples"
      ]
    },
    {
      "cell_type": "markdown",
      "metadata": {
        "id": "uK1khyKslrAz"
      },
      "source": [
        "# Creating a 1D array/vector\n",
        "\n",
        "If you have learned about arrays before, you'll know that some programming languages start the first index at 0. Julia starts at 1!"
      ]
    },
    {
      "cell_type": "code",
      "execution_count": null,
      "metadata": {
        "id": "UL31WKQiA1bm"
      },
      "outputs": [],
      "source": [
        "Array1 = [1, 2, 3, 4]"
      ]
    },
    {
      "cell_type": "markdown",
      "metadata": {},
      "source": [
        "Array with specified type."
      ]
    },
    {
      "cell_type": "code",
      "execution_count": null,
      "metadata": {
        "id": "Vrpm8bURlrA2"
      },
      "outputs": [],
      "source": [
        "rray1 = Array{Int64}([1, 2, 3,4])"
      ]
    },
    {
      "cell_type": "markdown",
      "metadata": {},
      "source": [
        "Instead of an array, a vector of specified type. In short, a vector is a 1-dimensional array. So, defining a vector can be used interchangeably with arrays in the 1st dimension."
      ]
    },
    {
      "cell_type": "code",
      "execution_count": null,
      "metadata": {
        "id": "diFc-jlQlrA5"
      },
      "outputs": [],
      "source": [
        "Vector{Int64}([1, 2, 3,4])"
      ]
    },
    {
      "cell_type": "code",
      "execution_count": null,
      "metadata": {
        "id": "AmNqvEnllrA6"
      },
      "outputs": [],
      "source": [
        "println(array1[begin:end])\n",
        "println(array1[2])"
      ]
    },
    {
      "cell_type": "markdown",
      "metadata": {},
      "source": [
        "### Appending and Pushing to Arrays\n",
        "\n",
        "In order to manipulate arrays, we can append and push values to them."
      ]
    },
    {
      "cell_type": "code",
      "execution_count": null,
      "metadata": {},
      "outputs": [],
      "source": [
        "a = [1, 2, 3]\n",
        "println(a)\n",
        "push!(a, 4)\n",
        "println(a)"
      ]
    },
    {
      "cell_type": "code",
      "execution_count": null,
      "metadata": {},
      "outputs": [],
      "source": [
        "# Alternatively, a function that will do a similar job.\n",
        "a = [1, 2, 3]\n",
        "println(a)\n",
        "append!(a, 4)\n",
        "println(a)"
      ]
    },
    {
      "cell_type": "markdown",
      "metadata": {
        "id": "6PIHm8sNlrA8"
      },
      "source": [
        "# Creating a 2D array\n"
      ]
    },
    {
      "cell_type": "markdown",
      "metadata": {},
      "source": [
        "2-dimensional arrays in julia are created by separating the dimensions by semicolons. "
      ]
    },
    {
      "cell_type": "code",
      "execution_count": null,
      "metadata": {
        "id": "KTj9TejylrBC"
      },
      "outputs": [],
      "source": [
        "Array2 = [1 2 3; 4 5 6]"
      ]
    },
    {
      "cell_type": "markdown",
      "metadata": {},
      "source": [
        "Note the output of Array2[5] and Array2[1,3]. The reason for this output is that Julia maintains an order regardless of the dimension and regarding the dimension. So it is up to you how you reference the number."
      ]
    },
    {
      "cell_type": "code",
      "execution_count": null,
      "metadata": {
        "id": "0Ym6X8yMlrBE"
      },
      "outputs": [],
      "source": [
        "println(Array2[begin:end])\n",
        "println(Array2[5])\n",
        "println(Array2[1,3])"
      ]
    },
    {
      "cell_type": "markdown",
      "metadata": {
        "id": "NsZjNLhClrBG"
      },
      "source": [
        "# Creating a 3D array\n",
        "## using 'cat' command"
      ]
    },
    {
      "cell_type": "code",
      "execution_count": null,
      "metadata": {
        "id": "0fb5QiSxlrBI"
      },
      "outputs": [],
      "source": [
        "Array3 = cat([1 2; 3 4], [5 6; 7 8], [2 2; 3 4], dims = 3)"
      ]
    },
    {
      "cell_type": "code",
      "execution_count": null,
      "metadata": {
        "id": "WXadoZj1lrBJ"
      },
      "outputs": [],
      "source": [
        "println(Array3[begin:end])\n",
        "println(Array3[5])\n",
        "println(Array3[1,2,1])"
      ]
    },
    {
      "cell_type": "markdown",
      "metadata": {
        "id": "ZONJNaG9xPYv"
      },
      "source": [
        "# **Control Flow**\n",
        "\n",
        "### For Loops\n"
      ]
    },
    {
      "cell_type": "markdown",
      "metadata": {},
      "source": [
        "For loops are a very powerful programming tool. This structure allows the programmer to essentially do some task as many times as they specify. For instance, in the for loop below each index of the array will be printed out individually with a space.  "
      ]
    },
    {
      "cell_type": "code",
      "execution_count": null,
      "metadata": {
        "id": "9LWvLOt9lrB3"
      },
      "outputs": [],
      "source": [
        "for x in [1,2,3,4,5]\n",
        "    print(x,\" \")\n",
        "end"
      ]
    },
    {
      "cell_type": "markdown",
      "metadata": {},
      "source": [
        "For loops can be run with ranges. This syntax essentially means: from 2:10, incrementing by an implied 1 every time."
      ]
    },
    {
      "cell_type": "code",
      "execution_count": null,
      "metadata": {
        "id": "1lnQVbYnlrB5"
      },
      "outputs": [],
      "source": [
        "for x in 2:10\n",
        "    print(x,\" \")\n",
        "end"
      ]
    },
    {
      "cell_type": "markdown",
      "metadata": {},
      "source": [
        "But instead of implying that the incrementation is 1 every time, it can be specified. Here, we have a for loop that starts at 2 and increments by 2 until it reaches 10."
      ]
    },
    {
      "cell_type": "code",
      "execution_count": null,
      "metadata": {
        "id": "HjFzgc8j_RcQ"
      },
      "outputs": [],
      "source": [
        "for x in 2:2:10\n",
        "  print(x, \" \")\n",
        "end"
      ]
    },
    {
      "cell_type": "markdown",
      "metadata": {},
      "source": [
        "the range() function is useful in for loops as well because you can specify exactly how many times you want it to loop, and a start and end number. For this example, the starting number is 0, the end number is 3, and the length of the iteration is 10. This will split 0-3 into 10 equal slices and y will reflect those numbers as it iterates through linearly."
      ]
    },
    {
      "cell_type": "code",
      "execution_count": null,
      "metadata": {
        "id": "3C7QcfQGlrB8"
      },
      "outputs": [],
      "source": [
        "for y in range(0, stop=3, length=10)\n",
        "    print(y,\", \\n\")\n",
        "end"
      ]
    },
    {
      "cell_type": "markdown",
      "metadata": {
        "id": "W-YZzdPSlrAm",
        "tags": []
      },
      "source": [
        "# Hands-on  **Functions**\n",
        "\n",
        "<div>\n",
        "     <img src=https://github.com/CEASLIBRARY/Introduction-to-Julia/blob/main/Hanson.png?raw=1\"  width=\"100\"  />  \n",
        "</div>"
      ]
    },
    {
      "cell_type": "markdown",
      "metadata": {
        "id": "9Q8NWztTlrAn"
      },
      "source": [
        "## Write a function that computes the list of the first 25 Fibonacci numbers.\n",
        "\n",
        "Earlier on we used a function that computed the Fibonacci sequence, but now it needs to be done more formally."
      ]
    },
    {
      "cell_type": "code",
      "execution_count": null,
      "metadata": {
        "id": "0WGEkULXlrAo"
      },
      "outputs": [],
      "source": [
        "# Write a function that computes Fibonacci numbers. Make sure that all the numbers in the sequence are shown in an array that can be printed to the screen. Keep in mind\n",
        "# that the function could simply return one number. Can you loop through something and push the results into an array?\n",
        "\n"
      ]
    },
    {
      "cell_type": "markdown",
      "metadata": {
        "id": "oZtvlv5flrBM"
      },
      "source": [
        "# Sets"
      ]
    },
    {
      "cell_type": "markdown",
      "metadata": {},
      "source": [
        "Sets are unordered collections of unique items. Arrays and dictionaries can contain duplicate values but sets cannot."
      ]
    },
    {
      "cell_type": "markdown",
      "metadata": {
        "id": "gBntNbtllrBN"
      },
      "source": [
        "**Creating an empty set**"
      ]
    },
    {
      "cell_type": "code",
      "execution_count": null,
      "metadata": {
        "id": "L4fz7JtnlrBR"
      },
      "outputs": [],
      "source": [
        "Set1 = Set()\n",
        "println(\"Empty Set: \", Set1)"
      ]
    },
    {
      "cell_type": "markdown",
      "metadata": {
        "id": "AiAxDt-dlrBT"
      },
      "source": [
        "**Creating a set with Integer values**"
      ]
    },
    {
      "cell_type": "code",
      "execution_count": null,
      "metadata": {
        "id": "1-hZXAVrlrBU"
      },
      "outputs": [],
      "source": [
        "Set2 = Set([1, 2, 3, 4, 5, 2, 4, 6])\n",
        "println(Set2)"
      ]
    },
    {
      "cell_type": "markdown",
      "metadata": {
        "id": "QrR8nB1rlrBW"
      },
      "source": [
        "**Creating a set with mixed datatypes**"
      ]
    },
    {
      "cell_type": "code",
      "execution_count": null,
      "metadata": {
        "id": "qIBWoNH7lrBX"
      },
      "outputs": [],
      "source": [
        "Set3 = Set([1, 2, 3, \"Hello\", \"Cincy\"])\n",
        "println(Set3)\n",
        "\n"
      ]
    },
    {
      "cell_type": "markdown",
      "metadata": {},
      "source": [
        "The union() function is an inbuilt function in Julia that constructs the union of specified sets. "
      ]
    },
    {
      "cell_type": "code",
      "execution_count": null,
      "metadata": {},
      "outputs": [],
      "source": [
        "println(union(Set1,Set2,Set3))"
      ]
    },
    {
      "cell_type": "markdown",
      "metadata": {},
      "source": [
        "The intersect() function is also an inbuilt function in Julia that constructs the intersection of specified sets. These functions also function with arrays, and they maintain multiplicity and order when arrays are passed to them."
      ]
    },
    {
      "cell_type": "code",
      "execution_count": null,
      "metadata": {},
      "outputs": [],
      "source": [
        "println(intersect(Set1,Set2,Set3))"
      ]
    },
    {
      "cell_type": "markdown",
      "metadata": {
        "id": "xM0lyjOLlrBZ"
      },
      "source": [
        "# Creating a Tuple"
      ]
    },
    {
      "cell_type": "code",
      "execution_count": null,
      "metadata": {
        "id": "9Qor7tnClrBa"
      },
      "outputs": [],
      "source": [
        "x = (2,3,4,5)"
      ]
    },
    {
      "cell_type": "markdown",
      "metadata": {},
      "source": [
        "Tuples are datatypes that can hold any different types of data. They are immutable, meaning they can' be modified. Tuples remember the order of the data inside them, so specific values can be referenced by indexing them."
      ]
    },
    {
      "cell_type": "code",
      "execution_count": null,
      "metadata": {
        "id": "Y4V52Cf7lrBc"
      },
      "outputs": [],
      "source": [
        "f(x,y,z,w) = x+y+z+w"
      ]
    },
    {
      "cell_type": "code",
      "execution_count": null,
      "metadata": {
        "id": "W5rEwm9YlrBd"
      },
      "outputs": [],
      "source": [
        "println(f((9,53,4,5)...))\n",
        "f(x...)\n"
      ]
    },
    {
      "cell_type": "markdown",
      "metadata": {
        "id": "47dNmSDtlrBh"
      },
      "source": [
        "# Hands-on  **Data Structures**\n",
        "\n",
        "<div>\n",
        "     <img src=https://github.com/CEASLIBRARY/Introduction-to-Julia/blob/main/Hanson.png?raw=1\"  width=\"100\"  />  \n",
        "</div>"
      ]
    },
    {
      "cell_type": "markdown",
      "metadata": {
        "id": "VhHbNq8PlrBi"
      },
      "source": [
        "1. Create a function that accepts an employee's name, and their appraisal rating. Return both the name and the appraisal rating, but if the rating is missing in the function call it should automatically return \"Above Expectations\"."
      ]
    },
    {
      "cell_type": "code",
      "execution_count": null,
      "metadata": {},
      "outputs": [],
      "source": [
        "# To start, we need a function that takes two parameters.\n",
        "# One of the functions needs a default value so that it will always work\n",
        "# even if there isn't an argument sent to it. \"function test(y = 3)\"\n"
      ]
    },
    {
      "cell_type": "markdown",
      "metadata": {},
      "source": [
        "2. Create a function that takes 4 inputs and returns all the values as an vector "
      ]
    },
    {
      "cell_type": "code",
      "execution_count": null,
      "metadata": {},
      "outputs": [],
      "source": []
    },
    {
      "cell_type": "markdown",
      "metadata": {
        "id": "zJ9YKsWtlrB-"
      },
      "source": [
        "## Nested Statements as cartesian product"
      ]
    },
    {
      "cell_type": "markdown",
      "metadata": {},
      "source": [
        "This is another powerful application of the for loop. Two separate iterating variables, but both can be used inside the loop. "
      ]
    },
    {
      "cell_type": "code",
      "execution_count": null,
      "metadata": {
        "id": "nhZm2hZqlrCD"
      },
      "outputs": [],
      "source": [
        "for i = 3:5, j = 1:4\n",
        "    print((i, j))\n",
        "end"
      ]
    },
    {
      "cell_type": "markdown",
      "metadata": {
        "id": "1a1SdwmAlrCG"
      },
      "source": [
        "### While Loops\n"
      ]
    },
    {
      "cell_type": "code",
      "execution_count": null,
      "metadata": {
        "id": "3kNX0HLslrCH"
      },
      "outputs": [],
      "source": [
        "x = Array{Int64}([1,2,3,4,5])\n",
        "i = 1\n",
        "while i <= length(x)\n",
        "    println(x[i])\n",
        "    i = i + 1\n",
        "end"
      ]
    },
    {
      "cell_type": "markdown",
      "metadata": {
        "id": "OOirl7RVlrCJ"
      },
      "source": [
        "## Iterators for Lists"
      ]
    },
    {
      "cell_type": "markdown",
      "metadata": {},
      "source": [
        "Iterators can be used to do special operations on data structures. For example, an easy way to reverse a function in Julia is to use the .reverse() function to literally run through the array backwards."
      ]
    },
    {
      "cell_type": "code",
      "execution_count": null,
      "metadata": {},
      "outputs": [],
      "source": [
        "x = [1, 2, 3, 4, 5]"
      ]
    },
    {
      "cell_type": "code",
      "execution_count": null,
      "metadata": {
        "id": "f54nZondlrCL"
      },
      "outputs": [],
      "source": [
        "for y in Iterators.reverse(x)\n",
        "    print(y)\n",
        "end"
      ]
    },
    {
      "cell_type": "markdown",
      "metadata": {
        "id": "WGPRsPhTAFBz"
      },
      "source": [
        "# Hands On with Conditional Statements and Control Flow\n",
        "<div>\n",
        "     <img src=https://github.com/CEASLIBRARY/Introduction-to-Julia/blob/main/Hanson.png?raw=1\"  width=\"100\"  />  \n",
        "</div>"
      ]
    },
    {
      "cell_type": "markdown",
      "metadata": {
        "id": "PdbfL9zZC_Os"
      },
      "source": [
        "**Check whether a string is a palindrome or not?**\n",
        "\n",
        "\"Madam, I'm Adam\", and \n",
        "\"a nut for a jar of tuna.\" \n",
        "\n",
        "_To make things easier, get rid of the punctuations, spaces, and anything else that isn't plaintext. This can be done in your code, but it's not necessary. For instance: \"madamimadam\"_"
      ]
    },
    {
      "cell_type": "code",
      "execution_count": null,
      "metadata": {
        "id": "X2bMWvaaDDhN"
      },
      "outputs": [],
      "source": [
        "\n",
        "\n"
      ]
    },
    {
      "cell_type": "markdown",
      "metadata": {
        "id": "Dgdo044QlrCU"
      },
      "source": [
        "# For more on Julia visit online resources\n",
        "* [Official Documentation at julialang.org](https://docs.julialang.org/en/v1/)\n",
        "* [UC Irvin: Julia in Depth for data Scientists](http://ucidatascienceinitiative.github.io/IntroToJulia/)\n"
      ]
    },
    {
      "cell_type": "markdown",
      "metadata": {
        "id": "eCPv-6AIExoP"
      },
      "source": [
        "# Interesting Links and News\n",
        "\n",
        "\n",
        "*   Programming Basics\n",
        "    * Intangible Side of Programming\n",
        "      * Critical Thinking : [Coding develops CT](https://thesassway.com/what-is-critical-thinking-in-computer-science/)\n",
        "      * Mathamatics : [Computational Programming](https://www.quantamagazine.org/computing-expert-says-programmers-need-more-math-20220517/)\n",
        "      * Logical Development : [How to Think Logically](https://www.geeksforgeeks.org/i-cant-use-logic-in-programming-what-should-i-do/)\n",
        "      * Art of articulating your mind : [putting thoughts into words](https://milesberry.net/2021/11/practical-programming/)\n",
        "    * Tangible Side of Programming\n",
        "      * Syntax Learning : [Grammer](https://pgrandinetti.github.io/compilers/page/what-is-a-programming-language-grammar/#:~:text=A%20Programming%20Language%20Grammar%20is,statements%20(also%20called%20sentences).)\n",
        "      * Programming Constructs : [Sentence Formation](https://cgi.csc.liv.ac.uk/~frans/OldLectures/2CS45/progCons/progCons.html)\n",
        "      * Program Flow : [Control Flow](https://en.wikipedia.org/wiki/Control_flow)\n",
        "      * Programming Features : [Writing Style](https://scoutapm.com/blog/functional-vs-procedural-vs-oop)"
      ]
    },
    {
      "cell_type": "markdown",
      "metadata": {
        "id": "x5nRI3OqFKhP"
      },
      "source": [
        "# Upcoming Julia Workshop\n",
        "* **Julia for Mathematician : Functions and Plots**\n",
        "* **Data Visualization with Julia**"
      ]
    }
  ],
  "metadata": {
    "colab": {
      "collapsed_sections": [],
      "include_colab_link": true,
      "name": "Julia.ipynb",
      "provenance": []
    },
    "gpuClass": "standard",
    "kernelspec": {
      "display_name": "Julia 1.8.2",
      "language": "julia",
      "name": "julia-1.8"
    },
    "language_info": {
      "file_extension": ".jl",
      "mimetype": "application/julia",
      "name": "julia",
      "version": "1.8.2"
    }
  },
  "nbformat": 4,
  "nbformat_minor": 0
}
