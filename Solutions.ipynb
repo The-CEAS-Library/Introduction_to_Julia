{
  "cells": [
    {
      "cell_type": "code",
      "execution_count": null,
      "metadata": {
        "colab": {
          "base_uri": "https://localhost:8080/",
          "height": 252
        },
        "id": "C7B2ANlaLHmi",
        "outputId": "0a6d9433-20b5-4b98-e403-229dfb378189"
      },
      "outputs": [],
      "source": [
        "#Exercise 1 Pythagorean Theorem\n",
        "\n",
        "c = sqrt(3**2 + 5**2)"
      ]
    },
    {
      "cell_type": "code",
      "execution_count": 10,
      "metadata": {},
      "outputs": [
        {
          "name": "stdout",
          "output_type": "stream",
          "text": [
            "Any[1, 2, 3, 5, 8, 13, 21, 34, 55, 89, 144, 233, 377, 610, 987, 1597, 2584, 4181, 6765, 10946, 17711, 28657, 46368, 75025, 121393, 196418, 317811, 514229, 832040]\n"
          ]
        }
      ],
      "source": [
        "# Exercise 2 \n",
        "# return Fibonacci sequence in an array. blah blah blah\n",
        "\n",
        "function fib(n)\n",
        "  if n<2\n",
        "    return 1\n",
        "  else\n",
        "    return fib(n-1)+fib(n-2)\n",
        "  end\n",
        "end\n",
        "\n",
        "\n",
        "# easiest solution with the given code:\n",
        "fib_list = []\n",
        "for i in 1:25\n",
        "  push!(fib_list, fib(i))\n",
        "end\n",
        "\n",
        "println(fib_list)"
      ]
    },
    {
      "cell_type": "code",
      "execution_count": 20,
      "metadata": {
        "id": "2Out9MBEPfhz"
      },
      "outputs": [
        {
          "name": "stdout",
          "output_type": "stream",
          "text": [
            "(\"Aidan\", \"Above Expectations\")\n"
          ]
        }
      ],
      "source": [
        "# Exercise 3, Problem 1\n",
        "\n",
        "# 1st problem\n",
        "function appraisal(name, rating=\"Above Expectations\")\n",
        "   return name, rating\n",
        "end\n",
        "\n",
        "println(appraisal(\"Aidan\"))\n"
      ]
    },
    {
      "cell_type": "code",
      "execution_count": null,
      "metadata": {},
      "outputs": [],
      "source": [
        "# Exercise 3, Problem 2 \n",
        "function array_time(x, y, z, l)\n",
        "    my_array = [x, y, z, l]\n",
        "end\n",
        "\n",
        "println(\"Here's my array: \", array_time(1, 2, 3, 4))\n",
        "\n",
        "x = array_time(1, 2, \"asdf\", 4)\n",
        "typeof(x)"
      ]
    },
    {
      "cell_type": "code",
      "execution_count": null,
      "metadata": {
        "id": "gu_d5CzgQOPJ"
      },
      "outputs": [],
      "source": [
        "# Final Exercise\n",
        "#Check whether a string is a palindrome or not?\n",
        "\n",
        "#\"Madam, I'm Adam\", and \"a nut for a jar of tuna.\"\n",
        "\n",
        "# First remove any character apart from valid alphabetical characters \n",
        "\n",
        "# and turn the string to lower case\n",
        "\n",
        "# Easy Solution\n",
        "\n",
        "# Check if the string reads reads same forward and backward\n",
        "\n",
        "# Elegant Solution\n",
        "\n",
        "# 1. See if First and Last Character is same. If not: return \"False\"\n",
        "\n",
        "# 2. If yes: then generate substring by removing first and last character\n",
        "\n",
        "# 3. Repeate from step 1\n",
        "\n",
        "# X = \"Madam, I'm Adam\"\n",
        "\n",
        "# X = lowercase(X)\n",
        "\n",
        "# Y = \"a nut for a jar of tuna.\"\n",
        "# Y = lowercase(Y)\n",
        "\n",
        "# Z = \"My Name is Rohit\"\n",
        "# Z = lowercase(Z)\n",
        "\n",
        "# X = replace(X, r\"[^a-z]\" => \"\")\n",
        "# Y = replace(Y, r\"[^a-z]\" => \"\")\n",
        "# Z = replace(Z, r\"[^a-z]\" => \"\")\n",
        "\n",
        "# function checkpalindrome(X)\n",
        "#     if(length(X)<=1)\n",
        "#         return true\n",
        "#     end\n",
        "#     if(X[1]==X[end])\n",
        "#         return checkpalindrome(X[2:end-1]) \n",
        "#     else\n",
        "#         return false\n",
        "#     end\n",
        "# end\n",
        "\n",
        "# if(checkpalindrome(X))\n",
        "#     println(\"This string \",X,\" is a Palindrome\")\n",
        "# else\n",
        "#     println(\"This string \",X,\" is not a Palindrome\")\n",
        "# end\n",
        "# if(checkpalindrome(Y))\n",
        "#     println(\"This string \",Y,\" is a Palindrome\")\n",
        "# else\n",
        "#     println(\"This string \",Y,\" is not a Palindrome\")\n",
        "# end\n",
        "# if(checkpalindrome(Z))\n",
        "#     println(\"This string \",Z,\" is a Palindrome\")\n",
        "# else\n",
        "#     println(\"This string \",Z,\" is not a Palindrome\")\n",
        "# end\n",
        "\n",
        "\n",
        "text = \"madamimadam\"\n",
        "reversed = \"\"\n",
        "for y in reverse(text)\n",
        "    print(y)\n",
        "    reversed = reversed * y\n",
        "end\n",
        "\n",
        "if reversed == text\n",
        "    println(\"\\nwe found a palindrome!\")\n",
        "else\n",
        "    println(\"\\nThis is not a palindrome\")\n",
        "end"
      ]
    },
    {
      "cell_type": "markdown",
      "metadata": {
        "id": "vBrGSiAqT-Qb"
      },
      "source": []
    }
  ],
  "metadata": {
    "accelerator": "GPU",
    "colab": {
      "authorship_tag": "ABX9TyO5uT0wZM6UcmWG4fntx5eO",
      "collapsed_sections": [],
      "include_colab_link": true,
      "name": "Solutions.ipynb",
      "provenance": []
    },
    "gpuClass": "standard",
    "kernelspec": {
      "display_name": "Julia 1.8.2",
      "language": "julia",
      "name": "julia-1.8"
    },
    "language_info": {
      "file_extension": ".jl",
      "mimetype": "application/julia",
      "name": "julia",
      "version": "1.8.2"
    },
    "vscode": {
      "interpreter": {
        "hash": "31f2aee4e71d21fbe5cf8b01ff0e069b9275f58929596ceb00d14d90e3e16cd6"
      }
    }
  },
  "nbformat": 4,
  "nbformat_minor": 0
}
