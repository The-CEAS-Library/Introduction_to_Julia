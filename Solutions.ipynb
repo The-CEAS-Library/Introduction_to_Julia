{
  "cells": [
    {
      "cell_type": "markdown",
      "metadata": {
        "colab_type": "text",
        "id": "view-in-github"
      },
      "source": [
        "<a href=\"https://colab.research.google.com/github/CEASLIBRARY/Introduction-to-Julia/blob/main/Solutions.ipynb\" target=\"_parent\"><img src=\"https://colab.research.google.com/assets/colab-badge.svg\" alt=\"Open In Colab\"/></a>"
      ]
    },
    {
      "cell_type": "code",
      "execution_count": null,
      "metadata": {
        "colab": {
          "base_uri": "https://localhost:8080/"
        },
        "id": "0PUYlZTtT_us",
        "outputId": "776937bb-ca09-4ed5-842b-01a010a924bf"
      },
      "outputs": [],
      "source": [
        "%%shell\n",
        "set -e\n",
        "\n",
        "#---------------------------------------------------#\n",
        "JULIA_VERSION=\"1.7.1\" # any version ≥ 0.7.0\n",
        "JULIA_PACKAGES=\"IJulia BenchmarkTools Plots\"\n",
        "JULIA_PACKAGES_IF_GPU=\"CUDA\" # or CuArrays for older Julia versions\n",
        "JULIA_NUM_THREADS=2\n",
        "#---------------------------------------------------#\n",
        "\n",
        "if [ -n \"$COLAB_GPU\" ] && [ -z `which julia` ]; then\n",
        "  # Install Julia\n",
        "  JULIA_VER=`cut -d '.' -f -2 <<< \"$JULIA_VERSION\"`\n",
        "  echo \"Installing Julia $JULIA_VERSION on the current Colab Runtime...\"\n",
        "  BASE_URL=\"https://julialang-s3.julialang.org/bin/linux/x64\"\n",
        "  URL=\"$BASE_URL/$JULIA_VER/julia-$JULIA_VERSION-linux-x86_64.tar.gz\"\n",
        "  wget -nv $URL -O /tmp/julia.tar.gz # -nv means \"not verbose\"\n",
        "  tar -x -f /tmp/julia.tar.gz -C /usr/local --strip-components 1\n",
        "  rm /tmp/julia.tar.gz\n",
        "\n",
        "  # Install Packages\n",
        "  if [ \"$COLAB_GPU\" = \"1\" ]; then\n",
        "      JULIA_PACKAGES=\"$JULIA_PACKAGES $JULIA_PACKAGES_IF_GPU\"\n",
        "  fi\n",
        "  for PKG in `echo $JULIA_PACKAGES`; do\n",
        "    echo \"Installing Julia package $PKG...\"\n",
        "    julia -e 'using Pkg; pkg\"add '$PKG'; precompile;\"' &> /dev/null\n",
        "  done\n",
        "\n",
        "  # Install kernel and rename it to \"julia\"\n",
        "  echo \"Installing IJulia kernel...\"\n",
        "  julia -e 'using IJulia; IJulia.installkernel(\"julia\", env=Dict(\n",
        "      \"JULIA_NUM_THREADS\"=>\"'\"$JULIA_NUM_THREADS\"'\"))'\n",
        "  KERNEL_DIR=`julia -e \"using IJulia; print(IJulia.kerneldir())\"`\n",
        "  KERNEL_NAME=`ls -d \"$KERNEL_DIR\"/julia*`\n",
        "  mv -f $KERNEL_NAME \"$KERNEL_DIR\"/julia  \n",
        "\n",
        "  echo ''\n",
        "  echo \"Successfully installed `julia -v`!\"\n",
        "  echo \"Please reload this page (press Ctrl+R, ⌘+R, or the F5 key) then\"\n",
        "  echo \"jump to the 'Checking the Installation' section.\"\n",
        "fi"
      ]
    },
    {
      "cell_type": "code",
      "execution_count": null,
      "metadata": {
        "colab": {
          "base_uri": "https://localhost:8080/",
          "height": 252
        },
        "id": "C7B2ANlaLHmi",
        "outputId": "0a6d9433-20b5-4b98-e403-229dfb378189"
      },
      "outputs": [],
      "source": [
        "# Exercise 1\n",
        "# Simple Arithmatic Problem\n",
        "#Rule of 72:\n",
        "#Your initial deposit of X$ will double in 72/R years, where R is the annual interest rate.\n",
        "\n",
        "#here \n",
        "Initial_Amount = 50000 #$\n",
        "rate = 6  #%\n",
        "#Part 1\n",
        "Doubling_time = 72/6\n",
        "\n",
        "println(Doubling_time)\n",
        "\n",
        "#Part 2\n",
        "\n",
        "#The time to become a millioniare is given by following formulae:\n",
        "#log(2,Final_Amount_Required/Initial_Amount)*Doubling_Time\n",
        "Final_Amount_Required = 1000000 #$\n",
        "\n",
        "Time_to_Millioniare = log(2,Final_Amount_Required/Initial_Amount)*Doubling_time\n",
        "\n",
        "println(Time_to_Millioniare)"
      ]
    },
    {
      "cell_type": "code",
      "execution_count": null,
      "metadata": {
        "colab": {
          "base_uri": "https://localhost:8080/",
          "height": 200
        },
        "id": "l7HN-FzsNsAY",
        "outputId": "1a006812-5225-4ce1-a554-1d51bfe9db72"
      },
      "outputs": [],
      "source": [
        "# Exercise 2 \n",
        "#String Indexing and Operations on Strings\n",
        "#Generate Cincinnati word by merging letters[cinat]; you can replicate your substrings\n",
        "\n",
        "# Use String Slicing Technique to get subStrings\n",
        "#Replicate CIN substring using power operator (^) to get cincin\n",
        "#append the substring \"nat\" to get cincinnat using concatenation operator (*)\n",
        "# Finnaly append i to get Cincinnati using (*)\n",
        "x = \"cinat\"\n",
        "println(x[begin:3]^2*x[3:end]*x[2])\n"
      ]
    },
    {
      "cell_type": "code",
      "execution_count": null,
      "metadata": {
        "id": "2Out9MBEPfhz"
      },
      "outputs": [],
      "source": [
        "# Exercise 3\n",
        "Peoples = [\"Andrew\",\"Natasha\",\"Phil\",\"Mark\",\"Yan\",\"Jeff\",\"John\",\"Alper\",\"Andy\",\"Emiley\",\"Shreya\",\"Brittney\",\"Kalley\",\"Hisenberg\",\"Pauly\",\"Mohan\",\"Alexendra\",\"Markus\",\"Sartaj\",\"Pradeep\",\"Arnold\",\"Batista\",\"Edison\",\"Kapler\",\"Galileo\",\"Cristophere\",\"Sayeed\",\"Barack\",\"Imtiaz\",\"moen\"]\n",
        "# Set Operations\n",
        "\n",
        "# In a group of 50 people, 35 speak Hindi, 25 speak both English and Hindi, and all people speak at least one of \n",
        "#the two languages. How many people speak only Hindi and not English?\n",
        "\n",
        "#Create a set of tuples.\n",
        "\n",
        "#Each tuple represent a name and language of person.\n",
        "\n",
        "#Somewhat like this [(Andrew,English),(Natasha, Hindi), (Phil, English-Hindi) ... So on]\n",
        "\n",
        "list1 = Set()\n",
        "while length(list1)<50\n",
        "    if(mod(rand(1:2),2)==0)\n",
        "        push!(list1,(Peoples[rand(1:25)],\"English\"))\n",
        "    else\n",
        "        push!(list1,(Peoples[rand(5:30)],\"Hindi\"))\n",
        "    end\n",
        "end\n",
        "#println(list1,\"\\n \")\n",
        "setHindi = Set(i[1] for i in list1 if i[2]==\"Hindi\")\n",
        "setEnglish = Set(i[1] for i in list1 if i[2]==\"English\")\n",
        "totalPeople = Set(i[1] for i in list1)\n",
        "#println(setHindi)\n",
        "#println(setEnglish)\n",
        "\n",
        "bothLanguages = intersect(setHindi,setEnglish)\n",
        "#println(bothLanguages)\n",
        "\n",
        "onlyHindi = setdiff(totalPeople,setEnglish)\n",
        "println(onlyHindi)\n",
        "\n",
        "onlyEnglish = setdiff(totalPeople,setHindi)\n",
        "#println(onlyEnglish"
      ]
    },
    {
      "cell_type": "code",
      "execution_count": null,
      "metadata": {
        "id": "gu_d5CzgQOPJ"
      },
      "outputs": [],
      "source": [
        "#Check whether a string is a palindrome or not?\n",
        "\n",
        "#\"Madam, I'm Adam\", and \"a nut for a jar of tuna.\"\n",
        "\n",
        "# First remove any character apart from valid alphabetical characters \n",
        "\n",
        "# and turn the string to lower case\n",
        "\n",
        "# Easy Solution\n",
        "\n",
        "# Check if the string reads reads same forward and backward\n",
        "\n",
        "# Elegant Solution\n",
        "\n",
        "# 1. See if First and Last Character is same. If not: return \"False\"\n",
        "\n",
        "# 2. If yes: then generate substring by removing first and last character\n",
        "\n",
        "# 3. Repeate from step 1\n",
        "\n",
        "X = \"Madam, I'm Adam\"\n",
        "\n",
        "X = lowercase(X)\n",
        "\n",
        "Y = \"a nut for a jar of tuna.\"\n",
        "Y = lowercase(Y)\n",
        "\n",
        "Z = \"My Name is Rohit\"\n",
        "Z = lowercase(Z)\n",
        "\n",
        "X = replace(X, r\"[^a-z]\" => \"\")\n",
        "Y = replace(Y, r\"[^a-z]\" => \"\")\n",
        "Z = replace(Z, r\"[^a-z]\" => \"\")\n",
        "\n",
        "function checkpalindrome(X)\n",
        "    if(length(X)<=1)\n",
        "        return true\n",
        "    end\n",
        "    if(X[1]==X[end])\n",
        "        return checkpalindrome(X[2:end-1]) \n",
        "    else\n",
        "        return false\n",
        "    end\n",
        "end\n",
        "\n",
        "if(checkpalindrome(X))\n",
        "    println(\"This string \",X,\" is a Palindrome\")\n",
        "else\n",
        "    println(\"This string \",X,\" is not a Palindrome\")\n",
        "end\n",
        "if(checkpalindrome(Y))\n",
        "    println(\"This string \",Y,\" is a Palindrome\")\n",
        "else\n",
        "    println(\"This string \",Y,\" is not a Palindrome\")\n",
        "end\n",
        "if(checkpalindrome(Z))\n",
        "    println(\"This string \",Z,\" is a Palindrome\")\n",
        "else\n",
        "    println(\"This string \",Z,\" is not a Palindrome\")\n",
        "end\n",
        "\n",
        "\n",
        "text = \"madamimadam\"\n",
        "reversed = \"\"\n",
        "for y in reverse(text)\n",
        "    print(y)\n",
        "    reversed = reversed * y\n",
        "end\n",
        "\n",
        "if reversed == text\n",
        "    println(\"\\nwe found a palindrome!\")\n",
        "else\n",
        "    println(\"\\nThis is not a palindrome\")\n",
        "end"
      ]
    },
    {
      "cell_type": "markdown",
      "metadata": {
        "id": "vBrGSiAqT-Qb"
      },
      "source": []
    }
  ],
  "metadata": {
    "accelerator": "GPU",
    "colab": {
      "authorship_tag": "ABX9TyO5uT0wZM6UcmWG4fntx5eO",
      "collapsed_sections": [],
      "include_colab_link": true,
      "name": "Solutions.ipynb",
      "provenance": []
    },
    "gpuClass": "standard",
    "kernelspec": {
      "display_name": "Python 3.10.7 ('sandbox_venv')",
      "language": "python",
      "name": "python3"
    },
    "language_info": {
      "name": "python",
      "version": "3.10.7"
    },
    "vscode": {
      "interpreter": {
        "hash": "5ca05bc0336a8126855e3d5aa5fb6835130cc7c2d2f56e91d6eeeed2169a3a9f"
      }
    }
  },
  "nbformat": 4,
  "nbformat_minor": 0
}
