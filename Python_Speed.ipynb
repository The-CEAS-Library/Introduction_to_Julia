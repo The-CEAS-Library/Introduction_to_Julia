{
  "cells": [
    {
      "cell_type": "code",
      "execution_count": null,
      "metadata": {
        "id": "w1505BjuvVhk"
      },
      "outputs": [],
      "source": [
        "import time"
      ]
    },
    {
      "cell_type": "code",
      "execution_count": null,
      "metadata": {
        "id": "f2qPHrg8wWk7"
      },
      "outputs": [],
      "source": [
        "def fib(n):\n",
        "  if (n<2):\n",
        "    return n\n",
        "  else:\n",
        "    return fib(n-1)+fib(n-2)\n"
      ]
    },
    {
      "cell_type": "code",
      "execution_count": null,
      "metadata": {
        "colab": {
          "base_uri": "https://localhost:8080/"
        },
        "id": "-3uIK_-TwKLF",
        "outputId": "707668d0-01a6-441c-8841-ddec2eaea315"
      },
      "outputs": [],
      "source": [
        "t1 = time.time()\n",
        "print(fib(30))\n",
        "t2 = time.time()\n",
        "print((t2-t1)*1000,\" \", \"Milliseconds\")"
      ]
    }
  ],
  "metadata": {
    "colab": {
      "authorship_tag": "ABX9TyMjXWJ0mv/lnQlLLv6CGltq",
      "include_colab_link": true,
      "name": "Python Speed.ipynb",
      "provenance": []
    },
    "kernelspec": {
      "display_name": "Python 3.10.6 ('sandbox_venv')",
      "language": "python",
      "name": "python3"
    },
    "language_info": {
      "name": "python",
      "version": "3.10.6"
    },
    "vscode": {
      "interpreter": {
        "hash": "a8882b7420ea834d250fab67bdfc273caaee0c575923f328dcc718ded2237c26"
      }
    }
  },
  "nbformat": 4,
  "nbformat_minor": 0
}
